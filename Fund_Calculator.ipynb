{
  "cells": [
    {
      "cell_type": "markdown",
      "metadata": {
        "id": "7dD3GsubQaqZ"
      },
      "source": [
        "# Config\n",
        "Determine the preliminary parameters to determine wealth disimbursement"
      ]
    },
    {
      "cell_type": "markdown",
      "metadata": {
        "id": "NjzLfJw-PYVW"
      },
      "source": [
        "##Primary Parameters"
      ]
    },
    {
      "cell_type": "code",
      "execution_count": 2,
      "metadata": {
        "id": "nAYH_BXC8cNh"
      },
      "outputs": [],
      "source": [
        "#The amount of money to start with (in millions)\n",
        "principle_amount = 1000\n",
        "\n",
        "#the age of the primary account holder (person who creates the fund) is when they activate the fund. (Decides if the primary account holder already has kids)\n",
        "starting_age = 65\n",
        "\n",
        "#the % rate at which the capital portfolio grows\n",
        "growth_rate = 6 #8.93% is the historical average of the s&p500 since it was created in 1993\n",
        "\n",
        "#the amount payed out yearly to each decendant (in millions). (In today's dollar. This adjusts with inflation)\n",
        "yearly_payment = 1\n",
        "\n",
        "#the age at which each decendant starts receiving payments\n",
        "min_age = 30\n",
        "\n",
        "#the age at which each decendant stops receiving payments\n",
        "max_age = 75"
      ]
    },
    {
      "cell_type": "markdown",
      "metadata": {
        "id": "D52ztB7YPUGV"
      },
      "source": [
        "##Secondary Parameters"
      ]
    },
    {
      "cell_type": "code",
      "execution_count": 3,
      "metadata": {
        "id": "J4LVBEiIPRfB"
      },
      "outputs": [],
      "source": [
        "#The first generation of decendants that receive disimbursement payments. \n",
        "start_paying_gen = 1 #note Gen 0 is the primary account holder, 1 is kids, 2 is grandkids, etc\n",
        "\n",
        "#the avg number of kids each decendant will have\n",
        "avg_num_kids = 3\n",
        "\n",
        "#the avg age at which each decendant has kids\n",
        "avg_age_of_kids = 28\n",
        "\n",
        "#the avg life expectancy. In canada, it is 82 years\n",
        "life_expectancy = 82\n",
        "\n",
        "#the avg % inflation. \n",
        "inflation = 2.5"
      ]
    },
    {
      "cell_type": "markdown",
      "metadata": {
        "id": "HV-dnD8cRWXr"
      },
      "source": [
        "#Main Code"
      ]
    },
    {
      "cell_type": "code",
      "execution_count": 4,
      "metadata": {
        "id": "MkOgLHSn2oi-"
      },
      "outputs": [],
      "source": [
        "def updateGenerations(currentYear):\n",
        "  global numDecendants\n",
        "  tempDict = {}\n",
        "\n",
        "  #update generations\n",
        "  for yearBorn in peopleDict:\n",
        "    age = currentYear - yearBorn\n",
        "\n",
        "    if age <= life_expectancy:\n",
        "      #copy over remaining living generations to tempDict\n",
        "      tempDict[yearBorn] = peopleDict[yearBorn]\n",
        "    \n",
        "    else:\n",
        "        numDecendants += peopleDict[yearBorn] #when accounting for dying people, add them to the count of decendants\n",
        "\n",
        "    #people are born\n",
        "    if age == avg_age_of_kids:\n",
        "      tempDict[currentYear] = avg_num_kids * peopleDict[yearBorn] #create new generation\n",
        "\n",
        "  #write tempDict to peopleDict\n",
        "  peopleDict.clear()\n",
        "  for yearBorn in tempDict:\n",
        "    peopleDict[yearBorn] = tempDict[yearBorn]\n",
        "\n",
        "def getPayment(currentYear):\n",
        "    global peopleSupported\n",
        "\n",
        "    #check who gets paid\n",
        "    payment = 0\n",
        "\n",
        "    supported = 0 #a counter used to keep track of how many people are supported currently\n",
        "    for yearBorn in peopleDict:\n",
        "        if yearBorn < (avg_age_of_kids * start_paying_gen): #if you design the fund to start paying the first generation, you'll need to be born in the year 1*avg_age_of_kids or later to get money\n",
        "            continue\n",
        "\n",
        "        age = currentYear - yearBorn\n",
        "\n",
        "        #if they are within the eligable age category\n",
        "        if (age >= min_age) and (age < max_age):\n",
        "            payment += yearly_payment * peopleDict[yearBorn]\n",
        "            supported += peopleDict[yearBorn]\n",
        "        \n",
        "\n",
        "    peopleSupported = supported\n",
        "    return payment"
      ]
    },
    {
      "cell_type": "code",
      "execution_count": 5,
      "metadata": {
        "colab": {
          "base_uri": "https://localhost:8080/",
          "height": 367
        },
        "id": "Zl6BxWgFqDCT",
        "outputId": "0ce086f9-e50b-4c5c-c291-fd5838ba3081"
      },
      "outputs": [
        {
          "name": "stdout",
          "output_type": "stream",
          "text": [
            "\n",
            "The fund lasted 262 years!\n",
            "The fund has supported a total 29524 people, and ended while supporting 8748 people.\n"
          ]
        },
        {
          "data": {
            "image/png": "[encoded data removed]",
            "text/plain": [
              "<Figure size 432x288 with 1 Axes>"
            ]
          },
          "metadata": {
            "needs_background": "light"
          },
          "output_type": "display_data"
        }
      ],
      "source": [
        "#Install Packages\n",
        "import math\n",
        "from os import closerange\n",
        "import matplotlib.pyplot as plt\n",
        "from collections import OrderedDict \n",
        "\n",
        "#setup maths\n",
        "netRate = ((growth_rate-inflation) / 100) +1\n",
        "cash = principle_amount\n",
        "timeline = 0\n",
        "peopleDict = OrderedDict()\n",
        "peopleDict[0] = 1 #   year: num of descendants being paid (excluding spouses)\n",
        "peopleSupported = 0\n",
        "numDecendants = 0\n",
        "\n",
        "#account for pre-existing family\n",
        "if starting_age >= avg_age_of_kids:\n",
        "    #create kids\n",
        "    timeline = avg_age_of_kids\n",
        "    peopleDict[timeline] = avg_num_kids\n",
        "\n",
        "if starting_age >= avg_age_of_kids * 2:\n",
        "    #create grandkids\n",
        "    timeline = avg_age_of_kids * 2\n",
        "    peopleDict[timeline] = avg_num_kids * peopleDict[timeline - avg_age_of_kids]\n",
        "\n",
        "if starting_age >= avg_age_of_kids * 3:\n",
        "    #create great grandkids\n",
        "    timeline = avg_age_of_kids * 3\n",
        "    peopleDict[timeline] = avg_num_kids * peopleDict[timeline - avg_age_of_kids]\n",
        "\n",
        "if starting_age >= avg_age_of_kids * 4:\n",
        "    #create great great grandkids\n",
        "    timeline = avg_age_of_kids * 4\n",
        "    peopleDict[timeline] = avg_num_kids * peopleDict[timeline - avg_age_of_kids]\n",
        "\n",
        "timeline = starting_age\n",
        "\n",
        "\n",
        "\n",
        "#graph setup\n",
        "cashTracker = []\n",
        "peopleTracker = []\n",
        "paidTracker = []\n",
        "yearTracker = []\n",
        "\n",
        "\n",
        "print(\"\")\n",
        "while cash > 0:\n",
        "  timeline += 1\n",
        "  cash = cash * netRate #compound dat cash, correct for inflation\n",
        "\n",
        "  updateGenerations(timeline) #adjust for new people / people dying\n",
        "  cash = cash - getPayment(timeline)\n",
        "  \n",
        "  cashTracker.append(cash) #log the current value of cash\n",
        "  peopleTracker.append(sum(peopleDict.values())) #log the number of decendants\n",
        "  paidTracker.append(peopleSupported)\n",
        "  yearTracker.append(timeline) #log the current year\n",
        "\n",
        "  if (timeline == 10000) or (cash >= 1E300):\n",
        "      print(\"Congratulations! You, and all {} of your decendants have beat capitalism!\".format(numDecendants + peopleTracker[-1]))\n",
        "      print(\"After {} years, the fund was worth {} dollars!\".format(timeline, cash))\n",
        "      print(\"For reference: 1 billion is 1e45, 1 trillion is 1e48, and 1 quadrillion is 1e51.\")\n",
        "      break\n",
        "\n",
        "\n",
        "#print results\n",
        "if timeline != 10000:\n",
        "    print(\"The fund lasted {} years!\".format(timeline))\n",
        "    print(\"The fund has supported a total {} people, and ended while supporting {} people.\".format(numDecendants + peopleTracker[-1], paidTracker[-1]))\n",
        "\n",
        "\n",
        "plt.plot(yearTracker, cashTracker, label=\"Value of Fund\")\n",
        "plt.plot(yearTracker, paidTracker, label=\"# of Decendants Being Paid\")\n",
        "plt.plot(yearTracker, peopleTracker, label=\"# of Decendants Alive\")\n",
        "plt.plot()\n",
        "plt.xlabel(\"Years\")\n",
        "plt.ylabel(\"Cash ($MM)\")\n",
        "plt.title(\"Fund over time\")\n",
        "plt.legend()\n",
        "plt.show()"
      ]
    }
  ],
  "metadata": {
    "colab": {
      "collapsed_sections": [],
      "name": "UBI Calculator.ipynb",
      "provenance": [],
      "toc_visible": true
    },
    "kernelspec": {
      "display_name": "Python 3",
      "name": "python3"
    },
    "language_info": {
      "codemirror_mode": {
        "name": "ipython",
        "version": 3
      },
      "file_extension": ".py",
      "mimetype": "text/x-python",
      "name": "python",
      "nbconvert_exporter": "python",
      "pygments_lexer": "ipython3",
      "version": "3.7.6"
    }
  },
  "nbformat": 4,
  "nbformat_minor": 0
}
